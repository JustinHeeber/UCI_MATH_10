{
 "cells": [
  {
   "cell_type": "markdown",
   "metadata": {
    "slideshow": {
     "slide_type": "slide"
    }
   },
   "source": [
    "# Lecture 6 Class and Modules"
   ]
  },
  {
   "cell_type": "markdown",
   "metadata": {
    "slideshow": {
     "slide_type": "fragment"
    }
   },
   "source": [
    "A possibly overlooked point: Modules and Class in Python share many similaries at the basic level. They both define some names (attributes) and functions (methods) for the convenience of users -- and the codes to call them are also similar. Of course, Class also serves as the blue prints to generate instances, and supports more advanced functions such as Inheritance."
   ]
  },
  {
   "cell_type": "markdown",
   "metadata": {
    "slideshow": {
     "slide_type": "slide"
    }
   },
   "source": [
    "## Class and Instance\n",
    "\n",
    "### Simple Example of Vector\n",
    "Let's first define the simplest class in Python"
   ]
  },
  {
   "cell_type": "code",
   "execution_count": null,
   "metadata": {
    "slideshow": {
     "slide_type": "fragment"
    }
   },
   "outputs": [],
   "source": [
    "class VectorV0:\n",
    "    '''The simplest class in python'''  # this is the document string\n",
    "\n",
    "    pass"
   ]
  },
  {
   "cell_type": "markdown",
   "metadata": {
    "slideshow": {
     "slide_type": "fragment"
    }
   },
   "source": [
    "and create two instances `v1` and `v2` "
   ]
  },
  {
   "cell_type": "code",
   "execution_count": null,
   "metadata": {
    "slideshow": {
     "slide_type": "fragment"
    }
   },
   "outputs": [],
   "source": [
    "v1 = VectorV0()  # note the parentheses here\n",
    "print(id(v1))\n",
    "v2 = VectorV0() \n",
    "id(v2)"
   ]
  },
  {
   "cell_type": "markdown",
   "metadata": {
    "slideshow": {
     "slide_type": "slide"
    }
   },
   "source": [
    "Now `v1` and `v2`  are the objects in Python"
   ]
  },
  {
   "cell_type": "code",
   "execution_count": null,
   "metadata": {
    "slideshow": {
     "slide_type": "fragment"
    }
   },
   "outputs": [],
   "source": [
    "type(v1)"
   ]
  },
  {
   "cell_type": "code",
   "execution_count": null,
   "metadata": {
    "slideshow": {
     "slide_type": "fragment"
    }
   },
   "outputs": [],
   "source": [
    "dir(v1)"
   ]
  },
  {
   "cell_type": "markdown",
   "metadata": {
    "slideshow": {
     "slide_type": "slide"
    }
   },
   "source": [
    "We can manually assign the attributes to instance `v1` and `v2`"
   ]
  },
  {
   "cell_type": "code",
   "execution_count": null,
   "metadata": {
    "slideshow": {
     "slide_type": "fragment"
    }
   },
   "outputs": [],
   "source": [
    "v1.x = 1.0\n",
    "v1.y = 2.0\n",
    "v2.x = 2.0\n",
    "v2.y = 3.0"
   ]
  },
  {
   "cell_type": "code",
   "execution_count": null,
   "metadata": {
    "slideshow": {
     "slide_type": "fragment"
    }
   },
   "outputs": [],
   "source": [
    "dir(v1)"
   ]
  },
  {
   "cell_type": "markdown",
   "metadata": {
    "slideshow": {
     "slide_type": "slide"
    }
   },
   "source": [
    "We don't want to create the instance or define the coordinates seperately. Can we do these in one step, when initializing the instance?"
   ]
  },
  {
   "cell_type": "code",
   "execution_count": null,
   "metadata": {
    "slideshow": {
     "slide_type": "fragment"
    }
   },
   "outputs": [],
   "source": [
    "class VectorV1:\n",
    "    '''define the vector'''  # this is the document string\n",
    "    dim = 2   # this is the attribute in class\n",
    "    def __init__(self, x=0.0, y=0.0):  # any method in Class requires the first parameter to be self!\n",
    "        self.x = x\n",
    "        self.y = y"
   ]
  },
  {
   "cell_type": "code",
   "execution_count": null,
   "metadata": {
    "slideshow": {
     "slide_type": "fragment"
    }
   },
   "outputs": [],
   "source": [
    "v1 = VectorV1(1.0,2.0)"
   ]
  },
  {
   "cell_type": "code",
   "execution_count": null,
   "metadata": {
    "slideshow": {
     "slide_type": "fragment"
    }
   },
   "outputs": [],
   "source": [
    "dir(v1)"
   ]
  },
  {
   "cell_type": "code",
   "execution_count": null,
   "metadata": {
    "slideshow": {
     "slide_type": "fragment"
    }
   },
   "outputs": [],
   "source": [
    "print(v1.dim)\n",
    "print(v1.x)\n",
    "print(v1.y)"
   ]
  },
  {
   "cell_type": "markdown",
   "metadata": {
    "slideshow": {
     "slide_type": "slide"
    }
   },
   "source": [
    "Btw, there is nothing mysterious about the `__init__`: you can just assume it is a function (method) stored in v1, and you can always call it if you like!\n",
    "\n",
    "When you write `v1.__init__()`, you can equivalently think that you are calling a function with \"ugly function name\" `__init__`, and the parameter is `v1` (self), i.e. you are writing `__init__(v1)`. It is just a function updating the attributes of instance objects!\n",
    "\n",
    "More generally, for the method `method(self, params)` you can call it by `self.method(params)`."
   ]
  },
  {
   "cell_type": "code",
   "execution_count": null,
   "metadata": {
    "slideshow": {
     "slide_type": "fragment"
    }
   },
   "outputs": [],
   "source": [
    "print(v1.x)\n",
    "print(id(v1))\n",
    "y = v1.__init__()\n",
    "print(v1.x)\n",
    "print(id(v1))\n",
    "print(y)"
   ]
  },
  {
   "cell_type": "markdown",
   "metadata": {
    "slideshow": {
     "slide_type": "fragment"
    }
   },
   "source": [
    "`v1` is just like a mutable object,  and the \"function\" `__init__( )` just change `v1` in place!"
   ]
  },
  {
   "cell_type": "markdown",
   "metadata": {
    "slideshow": {
     "slide_type": "slide"
    }
   },
   "source": [
    "Now we move on to update our vector class by defining more functions. Since you may not like ugly names here with dunder, let's just begin with normal function names."
   ]
  },
  {
   "cell_type": "code",
   "execution_count": null,
   "metadata": {
    "slideshow": {
     "slide_type": "fragment"
    }
   },
   "outputs": [],
   "source": [
    "class VectorV2:\n",
    "    '''define the vector'''  # this is the document string\n",
    "    dim = 2   # this is the attribute\n",
    "    \n",
    "    def __init__(self, x=0.0, y=0.0):  # any method in Class requires the first parameter to be self!\n",
    "        '''initialize the vector by providing x and y coordinate'''\n",
    "        self.x = x\n",
    "        self.y = y\n",
    "        \n",
    "    def norm(self): \n",
    "        '''calculate the norm of vector'''\n",
    "        return math.sqrt(self.x**2+self.y**2)\n",
    "    \n",
    "    def vector_sum(self, other):\n",
    "        '''calculate the vector sum of two vectors'''\n",
    "        return VectorV2(self.x + other.x, self.y + other.y)\n",
    "    \n",
    "    def show_coordinate(self):\n",
    "        '''display the coordinates of the vector'''\n",
    "        return 'Vector(%r, %r)' % (self.x, self.y)"
   ]
  },
  {
   "cell_type": "code",
   "execution_count": null,
   "metadata": {
    "slideshow": {
     "slide_type": "fragment"
    }
   },
   "outputs": [],
   "source": [
    "help(VectorV2)  "
   ]
  },
  {
   "cell_type": "code",
   "execution_count": null,
   "metadata": {
    "slideshow": {
     "slide_type": "fragment"
    }
   },
   "outputs": [],
   "source": [
    "import math\n",
    "v1 = VectorV2(1.0,2.0)\n",
    "v2 = VectorV2(2.0,3.0)"
   ]
  },
  {
   "cell_type": "code",
   "execution_count": null,
   "metadata": {
    "slideshow": {
     "slide_type": "fragment"
    }
   },
   "outputs": [],
   "source": [
    "v1.norm()"
   ]
  },
  {
   "cell_type": "code",
   "execution_count": null,
   "metadata": {
    "slideshow": {
     "slide_type": "fragment"
    }
   },
   "outputs": [],
   "source": [
    "v3 = v1.vector_sum(v2)\n",
    "v3.show_coordinate()"
   ]
  },
  {
   "cell_type": "code",
   "execution_count": null,
   "metadata": {
    "slideshow": {
     "slide_type": "fragment"
    }
   },
   "outputs": [],
   "source": [
    "v1+v2 # will it work?"
   ]
  },
  {
   "cell_type": "code",
   "execution_count": null,
   "metadata": {
    "slideshow": {
     "slide_type": "fragment"
    }
   },
   "outputs": [],
   "source": [
    "print(v3)"
   ]
  },
  {
   "cell_type": "markdown",
   "metadata": {
    "slideshow": {
     "slide_type": "fragment"
    }
   },
   "source": [
    "Something that we are still not satisfied:\n",
    "- By typing v3 or using `print()` in the code, we cannot show its coordinates directly\n",
    "- We cannot use the `+` operator to calculate the vector sum "
   ]
  },
  {
   "cell_type": "markdown",
   "metadata": {
    "slideshow": {
     "slide_type": "slide"
    }
   },
   "source": [
    "### Special (Magic) Methods\n",
    "\n",
    "Here's the magic: by merely changing the function name, we can realize our goal!"
   ]
  },
  {
   "cell_type": "code",
   "execution_count": null,
   "metadata": {
    "slideshow": {
     "slide_type": "fragment"
    }
   },
   "outputs": [],
   "source": [
    "class VectorV3:\n",
    "    '''define the vector'''  # this is the document string\n",
    "    dim = 2   # this is the attribute\n",
    "    \n",
    "    def __init__(self, x=0.0, y=0.0):  # any method in Class requires the first parameter to be self!\n",
    "        '''initialize the vector by providing x and y coordinate'''\n",
    "        self.x = x\n",
    "        self.y = y\n",
    "        \n",
    "    def norm(self): \n",
    "        '''calculate the norm of vector'''\n",
    "        return math.sqrt(self.x**2+self.y**2)\n",
    "    \n",
    "    def __add__ (self, other):\n",
    "        '''calculate the vector sum of two vectors'''\n",
    "        return VectorV3(self.x + other.x, self.y + other.y)\n",
    "    \n",
    "    def __repr__(self):   #special method of string representation\n",
    "        '''display the coordinates of the vector'''\n",
    "        return 'Vector(%r, %r)' % (self.x, self.y)"
   ]
  },
  {
   "cell_type": "code",
   "execution_count": null,
   "metadata": {
    "slideshow": {
     "slide_type": "fragment"
    }
   },
   "outputs": [],
   "source": [
    "help(VectorV3)"
   ]
  },
  {
   "cell_type": "code",
   "execution_count": null,
   "metadata": {
    "slideshow": {
     "slide_type": "fragment"
    }
   },
   "outputs": [],
   "source": [
    "v1 = VectorV3(1.0,2.0)\n",
    "v2 = VectorV3(2.0,3.0)"
   ]
  },
  {
   "cell_type": "code",
   "execution_count": null,
   "metadata": {
    "slideshow": {
     "slide_type": "fragment"
    }
   },
   "outputs": [],
   "source": [
    "v3 = v1.__add__(v2) # just call special methods as ordinary methods\n",
    "v3.__repr__()"
   ]
  },
  {
   "cell_type": "code",
   "execution_count": null,
   "metadata": {
    "slideshow": {
     "slide_type": "fragment"
    }
   },
   "outputs": [],
   "source": [
    "v1 +v2 # here is the point of using special methods!"
   ]
  },
  {
   "cell_type": "code",
   "execution_count": null,
   "metadata": {
    "slideshow": {
     "slide_type": "fragment"
    }
   },
   "outputs": [],
   "source": [
    "v3"
   ]
  },
  {
   "cell_type": "markdown",
   "metadata": {
    "slideshow": {
     "slide_type": "fragment"
    }
   },
   "source": [
    "Special methods are just like VIP admissions to take full use of the built-in operators in Python. With other special methods, you can even get elements by index `v3[0]`, or iterate through the object you created. For more advanced usage, you can [see here](https://rszalski.github.io/magicmethods/)."
   ]
  },
  {
   "cell_type": "markdown",
   "metadata": {
    "slideshow": {
     "slide_type": "slide"
    }
   },
   "source": [
    "### Inheritance"
   ]
  },
  {
   "cell_type": "markdown",
   "metadata": {
    "slideshow": {
     "slide_type": "fragment"
    }
   },
   "source": [
    "Now we want to add another scalar production method to Vector, but we're tired of rewriting all the other methods. A good way is to create new Class VectorV4 (Child Class) by inheriting from VectorV3 (Parent Class) that we have already defined."
   ]
  },
  {
   "cell_type": "code",
   "execution_count": null,
   "metadata": {
    "slideshow": {
     "slide_type": "fragment"
    }
   },
   "outputs": [],
   "source": [
    "class VectorV4(VectorV3): # Note the class VectorV3 in parentheses here\n",
    "    '''define the vector'''  # this is the document string\n",
    "    def __mul__(self, scalar):\n",
    "        '''calculate the scalar product'''\n",
    "        return VectorV4(self.x * scalar, self.y * scalar)"
   ]
  },
  {
   "cell_type": "code",
   "execution_count": null,
   "metadata": {
    "slideshow": {
     "slide_type": "fragment"
    }
   },
   "outputs": [],
   "source": [
    "help(VectorV4)"
   ]
  },
  {
   "cell_type": "code",
   "execution_count": null,
   "metadata": {
    "slideshow": {
     "slide_type": "fragment"
    }
   },
   "outputs": [],
   "source": [
    "v1 = VectorV4(1.0,2.0)\n",
    "v2 = VectorV4(2.0,3.0)"
   ]
  },
  {
   "cell_type": "code",
   "execution_count": null,
   "metadata": {
    "slideshow": {
     "slide_type": "fragment"
    }
   },
   "outputs": [],
   "source": [
    "v1+v2"
   ]
  },
  {
   "cell_type": "code",
   "execution_count": null,
   "metadata": {
    "slideshow": {
     "slide_type": "fragment"
    }
   },
   "outputs": [],
   "source": [
    "v1*2"
   ]
  },
  {
   "cell_type": "markdown",
   "metadata": {},
   "source": [
    "## Modules and Packages\n",
    "\n"
   ]
  },
  {
   "cell_type": "markdown",
   "metadata": {},
   "source": [
    "In Python, Functions (plus Classes, Variables) are contained in Modules, and Modules are organized in directories of Packages. In fact, Modules are also objects in Python!"
   ]
  },
  {
   "cell_type": "markdown",
   "metadata": {},
   "source": [
    "Now we have the `Vector.py` file in the folder. When we import the module, the interpreter will create a name `Vector` pointing to the module object. The functions/classes/variables defined in the module can be called with `Vector.XXX`.\n",
    "\n",
    "Of course, the (annoying) rules of object assignment (be careful about changing mutable objects even in modules) in Python still applies, but we won't go deep in this course."
   ]
  },
  {
   "cell_type": "code",
   "execution_count": null,
   "metadata": {},
   "outputs": [],
   "source": [
    "import Vector\n",
    "print(type(Vector))\n",
    "dir(Vector) # 'attributes' (namespace) in the module Vector -- note the variables/functions we have defined above are here!"
   ]
  },
  {
   "cell_type": "code",
   "execution_count": null,
   "metadata": {},
   "outputs": [],
   "source": [
    "Vector.string"
   ]
  },
  {
   "cell_type": "code",
   "execution_count": null,
   "metadata": {},
   "outputs": [],
   "source": [
    "Vector.print_hello()"
   ]
  },
  {
   "cell_type": "code",
   "execution_count": null,
   "metadata": {},
   "outputs": [],
   "source": [
    "v5 = Vector.VectorV5(1.0,2.0)\n",
    "v5"
   ]
  },
  {
   "cell_type": "markdown",
   "metadata": {},
   "source": [
    "Other different ways to import module:"
   ]
  },
  {
   "cell_type": "code",
   "execution_count": null,
   "metadata": {},
   "outputs": [],
   "source": [
    "import Vector as vc # create a name vc point to the module Vecotr.py -- good practice, all the functions will start with vc. -- you know where they are from!\n",
    "vc.string"
   ]
  },
  {
   "cell_type": "code",
   "execution_count": null,
   "metadata": {},
   "outputs": [],
   "source": [
    "from Vector import print_hello # may cause some name conflicts if write larger programs\n",
    "print_hello() # where does this print_hello come from ? it may take some time to figure out..."
   ]
  },
  {
   "cell_type": "code",
   "execution_count": null,
   "metadata": {},
   "outputs": [],
   "source": [
    "from Vector import * # bad choice! import everything -- may cause serious name conflicts\n",
    "string"
   ]
  },
  {
   "cell_type": "markdown",
   "metadata": {},
   "source": [
    "To import the modules, you must ensure that they are in your system paths."
   ]
  },
  {
   "cell_type": "code",
   "execution_count": null,
   "metadata": {},
   "outputs": [],
   "source": [
    "import sys\n",
    "sys.path"
   ]
  },
  {
   "cell_type": "code",
   "execution_count": null,
   "metadata": {},
   "outputs": [],
   "source": [
    "sys.modules.keys() # check all the modules are currently imported in the kernel"
   ]
  },
  {
   "cell_type": "markdown",
   "metadata": {},
   "source": [
    "We can import the `inspect` package and use `getsource` method to see the source codes of imported modules. Note that this does not work for [built-in functions](https://github.com/python/cpython)."
   ]
  },
  {
   "cell_type": "code",
   "execution_count": null,
   "metadata": {},
   "outputs": [],
   "source": [
    "import inspect\n",
    "lines = inspect.getsource(Vector.VectorV5)\n",
    "print(lines)"
   ]
  },
  {
   "cell_type": "markdown",
   "metadata": {},
   "source": [
    "If we are interested in `numpy` -- in fact `numpy` is a package rather than modules. Package can contain many submodules -- for example, the module of [linalg](https://github.com/numpy/numpy/blob/master/numpy/linalg/linalg.py)."
   ]
  },
  {
   "cell_type": "code",
   "execution_count": null,
   "metadata": {},
   "outputs": [],
   "source": [
    "import numpy as np\n",
    "[name for name in sys.modules.keys() if name.startswith('numpy')] # check what modules in numpy package has been imported"
   ]
  },
  {
   "cell_type": "code",
   "execution_count": null,
   "metadata": {},
   "outputs": [],
   "source": [
    "print(np)\n",
    "dir(np) # actually has the functions in np.core"
   ]
  },
  {
   "cell_type": "code",
   "execution_count": null,
   "metadata": {},
   "outputs": [],
   "source": [
    "print(inspect.getsource(np.sum))# let's see the source code of sum function"
   ]
  },
  {
   "cell_type": "code",
   "execution_count": null,
   "metadata": {},
   "outputs": [],
   "source": [
    "'eig' in dir(np) # where is the eigen value/vector function?"
   ]
  },
  {
   "cell_type": "code",
   "execution_count": null,
   "metadata": {},
   "outputs": [],
   "source": [
    "np.eig # Won't work! Because eig is not defined in numpy (core) module!"
   ]
  },
  {
   "cell_type": "code",
   "execution_count": null,
   "metadata": {},
   "outputs": [],
   "source": [
    "print(np.linalg)\n",
    "dir(np.linalg) # let's check the names in linalg module"
   ]
  },
  {
   "cell_type": "code",
   "execution_count": null,
   "metadata": {},
   "outputs": [],
   "source": [
    "help(np.linalg.eig) # eig function is here!"
   ]
  },
  {
   "cell_type": "markdown",
   "metadata": {},
   "source": [
    "You can view all the source code of [numpy](https://github.com/numpy/numpy) on Github. Pay attention to the folder structures."
   ]
  },
  {
   "cell_type": "code",
   "execution_count": null,
   "metadata": {},
   "outputs": [],
   "source": [
    "from numpy import linalg # another way to import linalg module from numpy package\n",
    "linalg # now we create a name linalg to point to the linalg.py module"
   ]
  },
  {
   "cell_type": "markdown",
   "metadata": {},
   "source": [
    "### Beyond Basic Python: What's next?\n",
    "\n",
    "- Knowledge and wisdom\n",
    "- What we have not covered in basic python: other data types (dictionary, set, tuple), input/output, exceptions, -- consult [a byte of python](https://python.swaroopch.com/), or [programiz](https://www.programiz.com/python-programming)\n",
    "- The systematic book ([for example,Python Cookbook](https://www.oreilly.com/library/view/python-cookbook-3rd/9781449357337/)) or course in computer science department (ICS-31,33)\n",
    "- Practice!Practice!Practive! Useful websites such as [Leetcode](https://leetcode.com/) "
   ]
  }
 ],
 "metadata": {
  "celltoolbar": "幻灯片",
  "kernelspec": {
   "display_name": "Python 3",
   "language": "python",
   "name": "python3"
  },
  "language_info": {
   "codemirror_mode": {
    "name": "ipython",
    "version": 3
   },
   "file_extension": ".py",
   "mimetype": "text/x-python",
   "name": "python",
   "nbconvert_exporter": "python",
   "pygments_lexer": "ipython3",
   "version": "3.7.6"
  }
 },
 "nbformat": 4,
 "nbformat_minor": 4
}
