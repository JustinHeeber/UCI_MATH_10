{
 "cells": [
  {
   "cell_type": "markdown",
   "metadata": {
    "slideshow": {
     "slide_type": "slide"
    }
   },
   "source": [
    "# Lecture 5: Control Flows and Functions"
   ]
  },
  {
   "cell_type": "markdown",
   "metadata": {
    "slideshow": {
     "slide_type": "subslide"
    }
   },
   "source": [
    "## Control Flows"
   ]
  },
  {
   "cell_type": "markdown",
   "metadata": {
    "slideshow": {
     "slide_type": "fragment"
    }
   },
   "source": [
    "In a typical programming language, the major control flows include **Choice** and **Loop**."
   ]
  },
  {
   "cell_type": "markdown",
   "metadata": {
    "slideshow": {
     "slide_type": "fragment"
    }
   },
   "source": [
    "### Choice and `if` loops in Python"
   ]
  },
  {
   "cell_type": "markdown",
   "metadata": {
    "slideshow": {
     "slide_type": "fragment"
    }
   },
   "source": [
    "General form:\n",
    "\n",
    "`if test_1:     # test_1 should return a boolean result -- don't forget the colon: here\n",
    "    statement_1 # associated block of test_1 -- don't forget the indentation here\n",
    " elif test_2:   # optional, if we have multiple branches\n",
    "    statement_2\n",
    " else:          # optional\n",
    "    statement_3\n",
    "`"
   ]
  },
  {
   "cell_type": "code",
   "execution_count": null,
   "metadata": {
    "slideshow": {
     "slide_type": "fragment"
    }
   },
   "outputs": [],
   "source": [
    "x = -5\n",
    "\n",
    "if x > 0:\n",
    "    print('positive number')\n",
    "elif x == 0:  # using == to test the equivalence of values\n",
    "    print('zero')\n",
    "else:\n",
    "    print('negative number')    "
   ]
  },
  {
   "cell_type": "code",
   "execution_count": null,
   "metadata": {
    "slideshow": {
     "slide_type": "fragment"
    }
   },
   "outputs": [],
   "source": [
    "mylist = [1,2,3]\n",
    "\n",
    "if x in mylist: # using keyword \"in\" to test if x is the element of list \n",
    "    print('x is in the list')\n",
    "else:\n",
    "    print('x is not in the list')"
   ]
  },
  {
   "cell_type": "code",
   "execution_count": null,
   "metadata": {
    "slideshow": {
     "slide_type": "fragment"
    }
   },
   "outputs": [],
   "source": [
    "x = 10\n",
    "if x > 0 or x < 0: ##  \"and,or,not\" are three typical boolean expressions in python\n",
    "    print('non-zero number')\n",
    "else:\n",
    "    print('zero number')   "
   ]
  },
  {
   "cell_type": "code",
   "execution_count": null,
   "metadata": {
    "slideshow": {
     "slide_type": "fragment"
    }
   },
   "outputs": [],
   "source": [
    "x = 10\n",
    "if not x == 0: # or you can write if x!=0        \n",
    "    print('non-zero number')\n",
    "else:\n",
    "    print('zero number')   "
   ]
  },
  {
   "cell_type": "markdown",
   "metadata": {
    "slideshow": {
     "slide_type": "slide"
    }
   },
   "source": [
    "**Remark**: I highly recommend you DO NOT use the `&` and `|` in if statement -- always use `and` and `or`. In Python, `and` and `or` are logical operators, while `&` and `|` are [bitwise operators that may cause unexpected problems](https://www.geeksforgeeks.org/difference-between-and-and-in-python/#:~:text=and%20is%20a%20Logical%20AND,as%20False%20when%20using%20logically.)."
   ]
  },
  {
   "cell_type": "markdown",
   "metadata": {
    "slideshow": {
     "slide_type": "slide"
    }
   },
   "source": [
    "### Loop: `while`\n",
    "\n",
    "`while test:  # test returns a boolean\n",
    "    statement_1\n",
    "else:             # a special feature about python that is overlooked! Use it in combination with break/continue \n",
    "    statement_2\n",
    "`"
   ]
  },
  {
   "cell_type": "code",
   "execution_count": null,
   "metadata": {
    "slideshow": {
     "slide_type": "fragment"
    }
   },
   "outputs": [],
   "source": [
    "n = 0 \n",
    "mylist = [] # create an empty list\n",
    "while n < 10:\n",
    "    mylist.append(n) # the code to be executed if n < 10\n",
    "    n = n + 1 # increase the counter by 1\n",
    "    print(id(mylist))\n",
    "    \n",
    "print(mylist) # this line is no longer in the while loop!"
   ]
  },
  {
   "cell_type": "code",
   "execution_count": null,
   "metadata": {
    "slideshow": {
     "slide_type": "fragment"
    }
   },
   "outputs": [],
   "source": [
    "# determine whether y is prime\n",
    "y = 10\n",
    "x = y // 2 # Why? Can it be improved?\n",
    "while x > 1:\n",
    "    if y % x == 0: # Reminder\n",
    "        print('y is not prime')\n",
    "        break      # exit the while loop immediately\n",
    "    else:          # this else is for if\n",
    "        x = x-1\n",
    "else:              # this else is for while -- run this if only there is normal exit without hitting the break\n",
    "    print('y is prime') # what if this statement is not in the else block?\n",
    "\n",
    "print(x)        "
   ]
  },
  {
   "cell_type": "markdown",
   "metadata": {
    "slideshow": {
     "slide_type": "slide"
    }
   },
   "source": [
    "### Loop: `for`"
   ]
  },
  {
   "cell_type": "markdown",
   "metadata": {
    "slideshow": {
     "slide_type": "fragment"
    }
   },
   "source": [
    "`for target in object:\n",
    "     statement_1\n",
    "     if test_1: break # exit the for loop immediately\n",
    "else:                 # run this only when exit normally without hitting break\n",
    "    statement_2    \n",
    "`"
   ]
  },
  {
   "cell_type": "markdown",
   "metadata": {
    "slideshow": {
     "slide_type": "fragment"
    }
   },
   "source": [
    "Computing sum of the list\n",
    "\n",
    "- Iterating the list directly\n",
    "- Iterating through the index"
   ]
  },
  {
   "cell_type": "code",
   "execution_count": null,
   "metadata": {
    "scrolled": true,
    "slideshow": {
     "slide_type": "slide"
    }
   },
   "outputs": [],
   "source": [
    "#iterating the list\n",
    "mylist = [1,2,3,4]\n",
    "mysum = 0\n",
    "\n",
    "for x in mylist:\n",
    "    mysum = mysum + x\n",
    "\n",
    "print(mysum)  \n",
    "\n",
    "# this might be a more pythonic way!"
   ]
  },
  {
   "cell_type": "code",
   "execution_count": null,
   "metadata": {
    "slideshow": {
     "slide_type": "fragment"
    }
   },
   "outputs": [],
   "source": [
    "#iterating through index\n",
    "mylist = [1,2,3,4]\n",
    "mysum = 0\n",
    "\n",
    "for i in range(len(mylist)):\n",
    "    mysum = mysum + mylist[i]\n",
    "print(mysum)\n",
    "\n",
    "# this is what you're familiar in Matlab perhaps!"
   ]
  },
  {
   "cell_type": "markdown",
   "metadata": {
    "slideshow": {
     "slide_type": "fragment"
    }
   },
   "source": [
    "By using the `enumerate()` we can actually iterate in both ways simultaneously!"
   ]
  },
  {
   "cell_type": "code",
   "execution_count": null,
   "metadata": {
    "slideshow": {
     "slide_type": "fragment"
    }
   },
   "outputs": [],
   "source": [
    "mylist = [[1,2],[3,4]] \n",
    "\n",
    "for i,x in enumerate(mylist): # pay attention to the order (i,x)\n",
    "    print(x)\n",
    "    print(id(x))\n",
    "    print(mylist[i])\n",
    "    print(id(mylist[i]))"
   ]
  },
  {
   "cell_type": "markdown",
   "metadata": {
    "slideshow": {
     "slide_type": "slide"
    }
   },
   "source": [
    "Change the elements of list"
   ]
  },
  {
   "cell_type": "code",
   "execution_count": null,
   "metadata": {
    "slideshow": {
     "slide_type": "fragment"
    }
   },
   "outputs": [],
   "source": [
    "mylist = [1,2,3,4]\n",
    "print(id(mylist))\n",
    "\n",
    "for i in range(len(mylist)):\n",
    "    mylist[i] = mylist[i] + 1\n",
    "\n",
    "print(mylist)\n",
    "print(id(mylist))\n"
   ]
  },
  {
   "cell_type": "code",
   "execution_count": null,
   "metadata": {
    "slideshow": {
     "slide_type": "fragment"
    }
   },
   "outputs": [],
   "source": [
    "# this will NOT work -- think why !\n",
    "mylist = [1,2,3,4]\n",
    "\n",
    "for x in mylist:\n",
    "    x = x + 1\n",
    "\n",
    "print(mylist)"
   ]
  },
  {
   "cell_type": "markdown",
   "metadata": {
    "slideshow": {
     "slide_type": "fragment"
    }
   },
   "source": [
    "A more *pythonic* way is through list comprehension\n",
    "\n",
    "`new_list = [A for B in C if D]`"
   ]
  },
  {
   "cell_type": "code",
   "execution_count": null,
   "metadata": {
    "slideshow": {
     "slide_type": "fragment"
    }
   },
   "outputs": [],
   "source": [
    "mylist = [1,2,3,4]\n",
    "print(id(mylist))\n",
    "\n",
    "mylist = [x+1 for x in mylist]\n",
    "\n",
    "print(mylist)\n",
    "print(id(mylist))"
   ]
  },
  {
   "cell_type": "markdown",
   "metadata": {
    "slideshow": {
     "slide_type": "slide"
    }
   },
   "source": [
    "Comprehension is very powerful -- it can also be combined with if statement to 'filter' elements."
   ]
  },
  {
   "cell_type": "code",
   "execution_count": null,
   "metadata": {
    "slideshow": {
     "slide_type": "fragment"
    }
   },
   "outputs": [],
   "source": [
    "# take all the special attributes/names of mylist\n",
    "dir_mylist = dir(mylist)\n",
    "special_names = [name for name in dir_mylist if name.startswith('__')]\n",
    "print(special_names "
   ]
  },
  {
   "cell_type": "markdown",
   "metadata": {
    "slideshow": {
     "slide_type": "fragment"
    }
   },
   "source": [
    "I highly recommend [this video](https://www.youtube.com/watch?v=OSGv2VnC0go) for writing the pythonic codes. Below are some more sophiscated examples -- in fact, too many loops/conditions in list comprehension can make the code less readable!"
   ]
  },
  {
   "cell_type": "code",
   "execution_count": null,
   "metadata": {
    "slideshow": {
     "slide_type": "fragment"
    }
   },
   "outputs": [],
   "source": [
    "obj = [\"Even\" if i%2==0 else \"Odd\" for i in range(100)]\n",
    "print(obj)"
   ]
  },
  {
   "cell_type": "code",
   "execution_count": null,
   "metadata": {
    "slideshow": {
     "slide_type": "fragment"
    }
   },
   "outputs": [],
   "source": [
    "vec = [[1,2,3], [4,5,6], [7,8,9]]\n",
    "vec_flat = [num for elem in vec for num in elem] \n",
    "print(vec_flat)"
   ]
  },
  {
   "cell_type": "markdown",
   "metadata": {
    "slideshow": {
     "slide_type": "slide"
    }
   },
   "source": [
    "## Functions"
   ]
  },
  {
   "cell_type": "markdown",
   "metadata": {
    "slideshow": {
     "slide_type": "fragment"
    }
   },
   "source": [
    "### Defining the Function\n",
    "\n",
    "To define the function:\n",
    "\n",
    "`def func_name (arg1, arg2 = value):\n",
    "      statements\n",
    "      return value # if there's no return statement, just return None`       \n",
    "\n",
    "Here `arg1` is the normal argument, while `arg2` has the default value if no object is passed during the call. Note here that the order is important -- normal arguments first, followed by arguments with default values. "
   ]
  },
  {
   "cell_type": "code",
   "execution_count": null,
   "metadata": {
    "slideshow": {
     "slide_type": "slide"
    }
   },
   "outputs": [],
   "source": [
    "def simple_function():\n",
    "    '''this is a very simple function with neither input (arguments) nor output (return)'''\n",
    "    pass # pass indicates an empty block of statements"
   ]
  },
  {
   "cell_type": "code",
   "execution_count": null,
   "metadata": {
    "slideshow": {
     "slide_type": "fragment"
    }
   },
   "outputs": [],
   "source": [
    "y1 = simple_function() # y1 points to the return value\n",
    "y2 = simple_function # y2 points to the function object, later you can just call the function by y2()\n",
    "print([y1,y2])"
   ]
  },
  {
   "cell_type": "code",
   "execution_count": null,
   "metadata": {
    "slideshow": {
     "slide_type": "fragment"
    }
   },
   "outputs": [],
   "source": [
    "type(None)"
   ]
  },
  {
   "cell_type": "code",
   "execution_count": null,
   "metadata": {
    "slideshow": {
     "slide_type": "fragment"
    }
   },
   "outputs": [],
   "source": [
    "dir(y2)\n",
    "dir(simple_function) # return the same lists of attributes/methods of our simple_function function object"
   ]
  },
  {
   "cell_type": "code",
   "execution_count": null,
   "metadata": {
    "slideshow": {
     "slide_type": "fragment"
    }
   },
   "outputs": [],
   "source": [
    "y2.__doc__"
   ]
  },
  {
   "cell_type": "code",
   "execution_count": null,
   "metadata": {
    "slideshow": {
     "slide_type": "fragment"
    }
   },
   "outputs": [],
   "source": [
    "help(y2)"
   ]
  },
  {
   "cell_type": "markdown",
   "metadata": {
    "slideshow": {
     "slide_type": "slide"
    }
   },
   "source": [
    "By the way, ``help()``  is very useful for built-in types/functions or other classes/ functions defined in packages."
   ]
  },
  {
   "cell_type": "code",
   "execution_count": null,
   "metadata": {
    "slideshow": {
     "slide_type": "fragment"
    }
   },
   "outputs": [],
   "source": [
    "help(list)"
   ]
  },
  {
   "cell_type": "code",
   "execution_count": null,
   "metadata": {
    "slideshow": {
     "slide_type": "fragment"
    }
   },
   "outputs": [],
   "source": [
    "help(abs)"
   ]
  },
  {
   "cell_type": "markdown",
   "metadata": {
    "slideshow": {
     "slide_type": "slide"
    }
   },
   "source": [
    "Let's see what does the return statement do here."
   ]
  },
  {
   "cell_type": "code",
   "execution_count": null,
   "metadata": {
    "slideshow": {
     "slide_type": "fragment"
    }
   },
   "outputs": [],
   "source": [
    "def create_list():\n",
    "    mylist = [1,2,3]\n",
    "    print(id(mylist))\n",
    "    return mylist  #The return statement just pass the object to output"
   ]
  },
  {
   "cell_type": "code",
   "execution_count": null,
   "metadata": {
    "slideshow": {
     "slide_type": "fragment"
    }
   },
   "outputs": [],
   "source": [
    "output_list = create_list()\n",
    "print(id(output_list))"
   ]
  },
  {
   "cell_type": "markdown",
   "metadata": {
    "slideshow": {
     "slide_type": "slide"
    }
   },
   "source": [
    "A final remark here is that whenever the `return` is executed in Python, the function will \"jump out\" and all the remaining statements after return will not be executed -- so be cautious when you write return in the loops! An alternative way might be you just modify some variable(name) in the loop, and return the variable at the end of your function. "
   ]
  },
  {
   "cell_type": "markdown",
   "metadata": {
    "slideshow": {
     "slide_type": "slide"
    }
   },
   "source": [
    "### Argument Passing: Passing by *Object Reference* in Python\n",
    "\n",
    "In Matlab, the arguments are usually **passed by value** in the functions. However, Python functions **pass the arguments by object reference**. \n",
    "\n",
    "For simplicity, below we do not discuss the global variables here (As the famous saying goes, *global variables are evil in object-oriented languages*).\n",
    "\n",
    "In Python, suppose we have an object named ``obj_python`` that is passed to a function ``func(obj_func)``. What does the function do is create a new name (identifier) by ``obj_func = obj_python`` that points to the **same object** (instead of creating a new object!). All the statements within function are then executed with the name (identifier) ``obj_fun``, and the name ``obj_fun`` will be destroyed after calling the function. \n",
    "\n",
    "- For *mutable objects*, the modification with ``obj_fun`` inside the function may change the value of object, which is pointed by the name ``obj_python`` outside the function. \n",
    "- For *immutable objects*, since the value cannot be modified once the object is created, the function will not affect the object pointed by ``obj_python``.\n",
    "- That's why some people say in Python, the immutable objects are passed by values, while the mutable objects are passed by reference or pointer -- they are indeed the ''net effects''. In fact, these observations are the reflections of **passing by object reference** mechanism in Python."
   ]
  },
  {
   "cell_type": "code",
   "execution_count": null,
   "metadata": {
    "slideshow": {
     "slide_type": "fragment"
    }
   },
   "outputs": [],
   "source": [
    "def modify_list(mylist): \n",
    "    '''modify the first element of list '''\n",
    "    print(id(mylist))\n",
    "    mylist[0] = 100 # Note here we don't return anything (or return None)"
   ]
  },
  {
   "cell_type": "code",
   "execution_count": null,
   "metadata": {
    "slideshow": {
     "slide_type": "fragment"
    }
   },
   "outputs": [],
   "source": [
    "mylist1 = [1,2,3]\n",
    "print(id(mylist1))\n",
    "\n",
    "y = modify_list(mylist1) #by calling the function, we have another results printed\n",
    "\n",
    "print(y)\n",
    "print(mylist1)\n",
    "print(id(mylist1))"
   ]
  },
  {
   "cell_type": "markdown",
   "metadata": {
    "slideshow": {
     "slide_type": "fragment"
    }
   },
   "source": [
    "This reminds us about the `reverse()` or `sort()` methods of `list` that we talked about in the last lecture."
   ]
  },
  {
   "cell_type": "code",
   "execution_count": null,
   "metadata": {
    "slideshow": {
     "slide_type": "slide"
    }
   },
   "outputs": [],
   "source": [
    "def modify_list_complete(mylist):\n",
    "    '''modify the list completely by creating a new one, without return'''\n",
    "    mylist = [100,2,3]"
   ]
  },
  {
   "cell_type": "code",
   "execution_count": null,
   "metadata": {
    "slideshow": {
     "slide_type": "fragment"
    }
   },
   "outputs": [],
   "source": [
    "mylist = [1,2,3]\n",
    "modify_list_complete(mylist)\n",
    "print(mylist)"
   ]
  },
  {
   "cell_type": "code",
   "execution_count": null,
   "metadata": {
    "slideshow": {
     "slide_type": "fragment"
    }
   },
   "outputs": [],
   "source": [
    "def modify_list_complete_new(mylist):\n",
    "    '''modify the list completely by creating a new one, and return'''\n",
    "    mylist = [100,2,3]\n",
    "    return mylist"
   ]
  },
  {
   "cell_type": "code",
   "execution_count": null,
   "metadata": {
    "slideshow": {
     "slide_type": "fragment"
    }
   },
   "outputs": [],
   "source": [
    "mylist = [1,2,3]\n",
    "y = modify_list_complete_new(mylist)\n",
    "print(mylist)\n",
    "print(y)"
   ]
  },
  {
   "cell_type": "markdown",
   "metadata": {
    "slideshow": {
     "slide_type": "slide"
    }
   },
   "source": [
    "Now use the following example to test if you really understand :"
   ]
  },
  {
   "cell_type": "code",
   "execution_count": null,
   "metadata": {
    "slideshow": {
     "slide_type": "fragment"
    }
   },
   "outputs": [],
   "source": [
    "def modifier(myint, mylist): \n",
    "    '''modify the immutable integer and mutable list simultaneously'''\n",
    "    myint = 1000\n",
    "    mylist[0] = 1000\n",
    "\n",
    "    \n",
    "a = 1\n",
    "b = [1,2,3]\n",
    "\n",
    "modifier(a,b)\n",
    "print(a)\n",
    "print(b)\n",
    "\n",
    "a = 1\n",
    "b = [1,2,3]\n",
    "\n",
    "modifier(a,b.copy())\n",
    "print(a)\n",
    "print(b)"
   ]
  },
  {
   "cell_type": "markdown",
   "metadata": {
    "slideshow": {
     "slide_type": "slide"
    }
   },
   "source": [
    "### Calling the Function"
   ]
  },
  {
   "cell_type": "markdown",
   "metadata": {
    "slideshow": {
     "slide_type": "fragment"
    }
   },
   "source": [
    "Let's learn through this example."
   ]
  },
  {
   "cell_type": "code",
   "execution_count": null,
   "metadata": {
    "slideshow": {
     "slide_type": "fragment"
    }
   },
   "outputs": [],
   "source": [
    "def func(a, b, c=3, d=4):\n",
    "    print([a, b, c, d])"
   ]
  },
  {
   "cell_type": "code",
   "execution_count": null,
   "metadata": {
    "slideshow": {
     "slide_type": "fragment"
    }
   },
   "outputs": [],
   "source": [
    "func(1, 2) # a=1, b=2\n",
    "\n",
    "func(1, 2, 3, 4) # a=1, b=2, c=3, d=4\n",
    "\n",
    "func(1, c=0, b=0) # a=1, b=0, c=0, d=4"
   ]
  },
  {
   "cell_type": "markdown",
   "metadata": {
    "slideshow": {
     "slide_type": "slide"
    }
   },
   "source": [
    "### Lambda Function\n",
    "\n",
    "Lambda function provides a convenient way for defining simple functions. [Despite its simplicity, Guido Van Rossum used to consider remove it in Python 3](https://philip-trauner.me/blog/post/python-quirks-lambdas)."
   ]
  },
  {
   "cell_type": "code",
   "execution_count": null,
   "metadata": {
    "slideshow": {
     "slide_type": "fragment"
    }
   },
   "outputs": [],
   "source": [
    "f_square = lambda x: x*x\n",
    "\n",
    "mylist = list(range(10))\n",
    "mylist_square = [f_square(x) for x in mylist]\n",
    "print(mylist_square)"
   ]
  },
  {
   "cell_type": "code",
   "execution_count": null,
   "metadata": {},
   "outputs": [],
   "source": [
    "f_square()"
   ]
  }
 ],
 "metadata": {
  "celltoolbar": "幻灯片",
  "kernelspec": {
   "display_name": "Python 3",
   "language": "python",
   "name": "python3"
  },
  "language_info": {
   "codemirror_mode": {
    "name": "ipython",
    "version": 3
   },
   "file_extension": ".py",
   "mimetype": "text/x-python",
   "name": "python",
   "nbconvert_exporter": "python",
   "pygments_lexer": "ipython3",
   "version": "3.7.6"
  }
 },
 "nbformat": 4,
 "nbformat_minor": 4
}
